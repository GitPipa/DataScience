{
 "cells": [
  {
   "cell_type": "code",
   "execution_count": 1,
   "id": "426a6287-80c9-4d73-afc7-e9a01aa85d0e",
   "metadata": {},
   "outputs": [
    {
     "data": {
      "text/plain": [
       "2"
      ]
     },
     "execution_count": 1,
     "metadata": {},
     "output_type": "execute_result"
    }
   ],
   "source": [
    "1+1"
   ]
  },
  {
   "cell_type": "code",
   "execution_count": 2,
   "id": "41a7ffc0-f6f4-4876-8860-6d0cc6ffd90e",
   "metadata": {},
   "outputs": [
    {
     "data": {
      "text/plain": [
       "24"
      ]
     },
     "execution_count": 2,
     "metadata": {},
     "output_type": "execute_result"
    }
   ],
   "source": [
    "3*8"
   ]
  },
  {
   "cell_type": "code",
   "execution_count": null,
   "id": "24853934-3843-40b6-b927-2b52d111051b",
   "metadata": {},
   "outputs": [],
   "source": []
  },
  {
   "cell_type": "code",
   "execution_count": 3,
   "id": "133eb6e3-b027-4a4a-a9f1-e8acffbe941e",
   "metadata": {},
   "outputs": [],
   "source": [
    "one=1"
   ]
  },
  {
   "cell_type": "code",
   "execution_count": 4,
   "id": "a61efe1a-e90c-4eea-9c73-10a05b901d5d",
   "metadata": {},
   "outputs": [],
   "source": [
    "two=2"
   ]
  },
  {
   "cell_type": "code",
   "execution_count": 5,
   "id": "591a16aa-f300-4bdf-adcf-9578326e5701",
   "metadata": {},
   "outputs": [
    {
     "data": {
      "text/plain": [
       "3"
      ]
     },
     "execution_count": 5,
     "metadata": {},
     "output_type": "execute_result"
    }
   ],
   "source": [
    "one + two"
   ]
  },
  {
   "cell_type": "code",
   "execution_count": null,
   "id": "afc94a6d-d53b-44dc-ba78-56fe63f06ecc",
   "metadata": {},
   "outputs": [],
   "source": [
    "print(\"Hello World!\")"
   ]
  },
  {
   "cell_type": "markdown",
   "id": "04d55607-d3a0-4168-9730-4cb2fa23de6c",
   "metadata": {},
   "source": [
    "My first Markdown"
   ]
  },
  {
   "cell_type": "code",
   "execution_count": null,
   "id": "82fc767e-b3d0-465d-8ed9-4925bcbf04f8",
   "metadata": {},
   "outputs": [],
   "source": []
  }
 ],
 "metadata": {
  "kernelspec": {
   "display_name": "Python 3 (ipykernel)",
   "language": "python",
   "name": "python3"
  },
  "language_info": {
   "codemirror_mode": {
    "name": "ipython",
    "version": 3
   },
   "file_extension": ".py",
   "mimetype": "text/x-python",
   "name": "python",
   "nbconvert_exporter": "python",
   "pygments_lexer": "ipython3",
   "version": "3.9.13"
  }
 },
 "nbformat": 4,
 "nbformat_minor": 5
}
